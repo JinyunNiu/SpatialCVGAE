{
 "cells": [
  {
   "cell_type": "code",
   "execution_count": null,
   "id": "initial_id",
   "metadata": {
    "collapsed": true
   },
   "outputs": [],
   "source": [
    "import warnings\n",
    "warnings.filterwarnings(\"ignore\")\n",
    "\n",
    "import pandas as pd\n",
    "import numpy as np\n",
    "import scanpy as sc\n",
    "import matplotlib.pyplot as plt\n",
    "import os\n",
    "import sys\n",
    "from scipy.spatial import distance\n",
    "from sklearn.metrics.cluster import adjusted_rand_score,normalized_mutual_info_score,homogeneity_score,contingency_matrix\n",
    "from VGAE_GCN.adj import graph\n",
    "from VGAE_GCN.train_VGAE import train_model\n",
    "from VGAE_GCN.VGAE_model import VGAE\n",
    "from VGAE_GCN.utils import *"
   ]
  },
  {
   "cell_type": "code",
   "execution_count": null,
   "outputs": [],
   "source": [
    "def purity_score(y_true, y_pred):\n",
    "    # compute contingency matrix (also called confusion matrix)\n",
    "    cm = contingency_matrix(y_true, y_pred)\n",
    "    # return purity\n",
    "    return np.sum(np.amax(cm, axis=0)) / np.sum(cm)"
   ],
   "metadata": {
    "collapsed": false
   },
   "id": "ade07d02347e8da0"
  },
  {
   "cell_type": "code",
   "execution_count": null,
   "outputs": [],
   "source": [
    "seed_list = [0]\n",
    " \n",
    "for seed in seed_list:\n",
    "    DLPFC_dir = \"../../../dataset/DLPFC\"\n",
    "    \n",
    "    section_id = '151673'\n",
    "    \n",
    "    knn = 7\n",
    "    \n",
    "    print(section_id, knn)\n",
    "    ann_data_raw = sc.read_visium(os.path.join(DLPFC_dir, section_id),\n",
    "                              count_file=section_id + '_filtered_feature_bc_matrix.h5')\n",
    "    # load groud truth\n",
    "    ann_df = pd.read_csv(os.path.join(DLPFC_dir, section_id, section_id + \"_truth.txt\"),\n",
    "                         sep=\"\\t\", header=None, index_col=0)\n",
    "    ann_df.columns = [\"Manual annotation\"]\n",
    "    ann_data_raw.obs.loc[:, \"Manual annotation\"] = ann_df.loc[ann_data_raw.obs_names, 'Manual annotation']\n",
    "    ann_data_raw.var_names_make_unique()\n",
    "    print(ann_data_raw)\n",
    "    \n",
    "    ann_data = ann_data_raw.copy()\n",
    "\n",
    "    sc.pp.highly_variable_genes(ann_data, flavor=\"seurat_v3\", n_top_genes=3000)\n",
    "    sc.pp.normalize_total(ann_data, target_sum=1e4)\n",
    "    sc.pp.log1p(ann_data)\n",
    "\n",
    "    net = graph(ann_data)\n",
    "    net.compute_spatial_net()\n",
    "    net.Stats_Spatial_Net()\n",
    "\n",
    "    ann_data = train_model(ann_data, input_dim=3000, seed=seed)\n",
    "\n",
    "    adata = mclust_R(ann_data, used_obsm='z', num_cluster=knn)\n",
    "    indices = np.logical_not(ann_data.obs[\"Manual annotation\"].isna())\n",
    "    ground_truth = ann_data.obs[\"Manual annotation\"].dropna()\n",
    "    mclust_ari = adjusted_rand_score(ann_data.obs['mclust'][indices], ground_truth[indices])\n",
    "    print(\"mclust ari is: {:.4f}\".format(mclust_ari))\n",
    "    mclust_nmi = normalized_mutual_info_score(ann_data.obs['mclust'][indices], ground_truth[indices])\n",
    "    print(\"mclust nmi is: {:.4f}\".format(mclust_nmi))\n",
    "    mclust_hs = homogeneity_score(ann_data.obs['mclust'][indices], ground_truth[indices])\n",
    "    print(\"mclust hs is: {:.4f}\".format(mclust_hs))\n",
    "    mclust_purity = purity_score(ann_data.obs['mclust'][indices], ground_truth[indices])\n",
    "    print(\"mclust purity is: {:.4f}\".format(mclust_purity))\n",
    "\n",
    "    adj_2d = distance.cdist(ann_data.obsm['spatial'], ann_data.obsm['spatial'], 'euclidean')\n",
    "    refined_pred= refine(sample_id=ann_data.obs.index.tolist(), \n",
    "                                 pred=ann_data.obs[\"mclust\"].tolist(), dis=adj_2d, shape=\"hexagon\")\n",
    "    ann_data.obs[\"mclust_refine\"]= refined_pred\n",
    "    indices = np.logical_not(ann_data.obs[\"Manual annotation\"].isna())\n",
    "    ground_truth = ann_data.obs[\"Manual annotation\"].dropna()\n",
    "    mclust_ari = adjusted_rand_score(ann_data.obs['mclust_refine'][indices], ground_truth[indices])\n",
    "    print(\"mclust ari is: {:.4f}\".format(mclust_ari))\n",
    "    mclust_nmi = normalized_mutual_info_score(ann_data.obs['mclust_refine'][indices], ground_truth[indices])\n",
    "    print(\"mclust nmi is: {:.4f}\".format(mclust_nmi))\n",
    "    mclust_hs = homogeneity_score(ann_data.obs['mclust_refine'][indices], ground_truth[indices])\n",
    "    print(\"mclust hs is: {:.4f}\".format(mclust_hs))\n",
    "    mclust_purity = purity_score(ann_data.obs['mclust_refine'][indices], ground_truth[indices])\n",
    "    print(\"mclust purity is: {:.4f}\".format(mclust_purity))\n",
    "    \n",
    "    #file = ann_data.obs['mclust_refine']\n",
    "    #np.save(os.path.join(section_id,'version_'+str(seed),section_id+'_pred.npy'), file)"
   ],
   "metadata": {
    "collapsed": false
   },
   "id": "e81f4baa6d3e047f"
  },
  {
   "cell_type": "code",
   "execution_count": null,
   "outputs": [],
   "source": [
    "from matplotlib.colors import ListedColormap, LinearSegmentedColormap\n",
    "newcmp = LinearSegmentedColormap.from_list('new', ['#450756','#451464','#426189','#2BD32B','#F9F871'], N=1000)\n",
    "\n",
    "list_genes = ['AQP1','KRT17','NTNG1','KCNG1','MT1H']\n",
    "\n",
    "for gene_raw in list_genes:\n",
    "    idx = ann_data.var.index.tolist().index(gene_raw) #输出基因的idx\n",
    "    ann_data.obs[f'{gene_raw}(raw)'] = ann_data.X.todense()[:, idx]\n",
    "    sc.pl.spatial(ann_data, img_key=\"hires\",\n",
    "              color=f'{gene_raw}(raw)',\n",
    "              title=gene_raw,\n",
    "              color_map=newcmp)"
   ],
   "metadata": {
    "collapsed": false
   },
   "id": "f9ce2590a8652bc"
  },
  {
   "cell_type": "code",
   "execution_count": null,
   "outputs": [],
   "source": [
    "for gene in list_genes:\n",
    "    idx = ann_data.var.index.tolist().index(gene) #输出基因的idx\n",
    "    ann_data.obs[f'{gene}(denoised)'] = ann_data.obsm['ReX'][:, idx]\n",
    "    sc.pl.spatial(ann_data, img_key=\"hires\",\n",
    "              color=f'{gene}(denoised)',\n",
    "              title=gene,\n",
    "              color_map=newcmp)"
   ],
   "metadata": {
    "collapsed": false
   },
   "id": "1e438938df7b8c43"
  },
  {
   "cell_type": "code",
   "execution_count": null,
   "outputs": [],
   "source": [
    "ann_data.layers['ReX'] = ann_data.obsm['ReX']\n",
    "sc.pl.stacked_violin(ann_data,list_genes,groupby='Manual annotation',figsize=(8,4),swap_axes=True,layer='ReX')"
   ],
   "metadata": {
    "collapsed": false
   },
   "id": "a5d371d1ab27d62b"
  },
  {
   "cell_type": "code",
   "execution_count": null,
   "outputs": [],
   "source": [
    "sc.pl.stacked_violin(ann_data,list_genes,groupby='Manual annotation',figsize=(8,4),swap_axes=True)"
   ],
   "metadata": {
    "collapsed": false
   },
   "id": "ff5f2a7c14aa3cd7"
  },
  {
   "cell_type": "code",
   "execution_count": null,
   "outputs": [],
   "source": [],
   "metadata": {
    "collapsed": false
   },
   "id": "caaaf6c4c9d56d53"
  }
 ],
 "metadata": {
  "kernelspec": {
   "display_name": "Python 3",
   "language": "python",
   "name": "python3"
  },
  "language_info": {
   "codemirror_mode": {
    "name": "ipython",
    "version": 2
   },
   "file_extension": ".py",
   "mimetype": "text/x-python",
   "name": "python",
   "nbconvert_exporter": "python",
   "pygments_lexer": "ipython2",
   "version": "2.7.6"
  }
 },
 "nbformat": 4,
 "nbformat_minor": 5
}

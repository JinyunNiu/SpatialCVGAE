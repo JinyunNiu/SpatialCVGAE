{
 "cells": [
  {
   "cell_type": "code",
   "execution_count": null,
   "outputs": [],
   "source": [
    "import warnings\n",
    "warnings.filterwarnings(\"ignore\")\n",
    "\n",
    "import pandas as pd\n",
    "import numpy as np\n",
    "import scanpy as sc\n",
    "import matplotlib.pyplot as plt\n",
    "import os\n",
    "import sys\n",
    "from scipy.spatial import distance\n",
    "from sklearn.metrics.cluster import adjusted_rand_score,normalized_mutual_info_score,homogeneity_score,contingency_matrix\n",
    "from VGAE_GCN.adj import graph\n",
    "from VGAE_GCN.train_VGAE import train_model\n",
    "from VGAE_GCN.VGAE_model import VGAE\n",
    "from VGAE_GCN.utils import *"
   ],
   "metadata": {
    "collapsed": false
   },
   "id": "3d694c751b19ff9b"
  },
  {
   "cell_type": "code",
   "execution_count": null,
   "outputs": [],
   "source": [
    "def purity_score(y_true, y_pred):\n",
    "    # compute contingency matrix (also called confusion matrix)\n",
    "    cm = contingency_matrix(y_true, y_pred)\n",
    "    # return purity\n",
    "    return np.sum(np.amax(cm, axis=0)) / np.sum(cm)"
   ],
   "metadata": {
    "collapsed": false
   },
   "id": "4e3b0ec3e663dbe5"
  },
  {
   "cell_type": "code",
   "execution_count": null,
   "outputs": [],
   "source": [
    "#run SpatialCVGAE"
   ],
   "metadata": {
    "collapsed": false
   },
   "id": "7734c0fd1fee4d35"
  },
  {
   "cell_type": "code",
   "execution_count": null,
   "outputs": [],
   "source": [
    "seed_list = [0,1,2]\n",
    " \n",
    "for seed in seed_list:\n",
    "    DLPFC_dir = \"../../../dataset/DLPFC\"\n",
    "    \n",
    "    section_id = '151508'\n",
    "    \n",
    "    knn = 7\n",
    "    \n",
    "    print(section_id, knn)\n",
    "    ann_data_raw = sc.read_visium(os.path.join(DLPFC_dir, section_id),\n",
    "                              count_file=section_id + '_filtered_feature_bc_matrix.h5')\n",
    "    # load groud truth\n",
    "    ann_df = pd.read_csv(os.path.join(DLPFC_dir, section_id, section_id + \"_truth.txt\"),\n",
    "                         sep=\"\\t\", header=None, index_col=0)\n",
    "    ann_df.columns = [\"Manual annotation\"]\n",
    "    ann_data_raw.obs.loc[:, \"Manual annotation\"] = ann_df.loc[ann_data_raw.obs_names, 'Manual annotation']\n",
    "    ann_data_raw.var_names_make_unique()\n",
    "    print(ann_data_raw)\n",
    "    \n",
    "    ann_data = ann_data_raw.copy()\n",
    "\n",
    "    sc.pp.highly_variable_genes(ann_data, flavor=\"seurat_v3\", n_top_genes=3000)\n",
    "    sc.pp.normalize_total(ann_data, target_sum=1e4)\n",
    "    sc.pp.log1p(ann_data)\n",
    "\n",
    "    net = graph(ann_data)\n",
    "    net.compute_spatial_net()\n",
    "    net.Stats_Spatial_Net()\n",
    "\n",
    "    ann_data = train_model(ann_data, input_dim=3000, seed=seed)\n",
    "\n",
    "    adata = mclust_R(ann_data, used_obsm='z', num_cluster=knn)\n",
    "    indices = np.logical_not(ann_data.obs[\"Manual annotation\"].isna())\n",
    "    ground_truth = ann_data.obs[\"Manual annotation\"].dropna()\n",
    "    mclust_ari = adjusted_rand_score(ann_data.obs['mclust'][indices], ground_truth[indices])\n",
    "    print(\"mclust ari is: {:.4f}\".format(mclust_ari))\n",
    "    mclust_nmi = normalized_mutual_info_score(ann_data.obs['mclust'][indices], ground_truth[indices])\n",
    "    print(\"mclust nmi is: {:.4f}\".format(mclust_nmi))\n",
    "    mclust_hs = homogeneity_score(ann_data.obs['mclust'][indices], ground_truth[indices])\n",
    "    print(\"mclust hs is: {:.4f}\".format(mclust_hs))\n",
    "    mclust_purity = purity_score(ann_data.obs['mclust'][indices], ground_truth[indices])\n",
    "    print(\"mclust purity is: {:.4f}\".format(mclust_purity))\n",
    "\n",
    "    adj_2d = distance.cdist(ann_data.obsm['spatial'], ann_data.obsm['spatial'], 'euclidean')\n",
    "    refined_pred= refine(sample_id=ann_data.obs.index.tolist(), \n",
    "                                 pred=ann_data.obs[\"mclust\"].tolist(), dis=adj_2d, shape=\"hexagon\")\n",
    "    ann_data.obs[\"mclust_refine\"]= refined_pred\n",
    "    indices = np.logical_not(ann_data.obs[\"Manual annotation\"].isna())\n",
    "    ground_truth = ann_data.obs[\"Manual annotation\"].dropna()\n",
    "    mclust_ari = adjusted_rand_score(ann_data.obs['mclust_refine'][indices], ground_truth[indices])\n",
    "    print(\"mclust ari is: {:.4f}\".format(mclust_ari))\n",
    "    mclust_nmi = normalized_mutual_info_score(ann_data.obs['mclust_refine'][indices], ground_truth[indices])\n",
    "    print(\"mclust nmi is: {:.4f}\".format(mclust_nmi))\n",
    "    mclust_hs = homogeneity_score(ann_data.obs['mclust_refine'][indices], ground_truth[indices])\n",
    "    print(\"mclust hs is: {:.4f}\".format(mclust_hs))\n",
    "    mclust_purity = purity_score(ann_data.obs['mclust_refine'][indices], ground_truth[indices])\n",
    "    print(\"mclust purity is: {:.4f}\".format(mclust_purity))\n",
    "    \n",
    "    file = ann_data.obs['mclust_refine']\n",
    "    np.save(os.path.join(section_id,'version_'+str(seed),section_id+'_pred.npy'), file)"
   ],
   "metadata": {
    "collapsed": false
   },
   "id": "b99bedf966b66351"
  },
  {
   "cell_type": "code",
   "execution_count": null,
   "outputs": [],
   "source": [
    "#SVGs identification"
   ],
   "metadata": {
    "collapsed": false
   },
   "id": "ab5be8849315e1e4"
  },
  {
   "cell_type": "code",
   "execution_count": null,
   "outputs": [],
   "source": [
    "import SpaGCN as spg\n",
    "import matplotlib.colors as clr\n",
    "from scipy.sparse import issparse\n",
    "\n",
    "raw = sc.read_visium(os.path.join(DLPFC_dir, section_id),\n",
    "                          count_file=section_id + '_filtered_feature_bc_matrix.h5')\n",
    "raw.var_names_make_unique()\n",
    "raw.obs[\"pred\"]=ann_data.obs[\"mclust_refine\"].astype('category')\n",
    "raw.obs[\"x_array\"]=raw.obs[\"array_row\"]\n",
    "raw.obs[\"y_array\"]=raw.obs[\"array_col\"]\n",
    "raw.obs[\"x_pixel\"] = raw.obsm['spatial'][:,0]\n",
    "raw.obs[\"y_pixel\"] = raw.obsm['spatial'][:,1]\n",
    "x_array = raw.obs[\"x_array\"].tolist()\n",
    "y_array = raw.obs[\"y_array\"].tolist()\n",
    "x_pixel = raw.obs[\"x_pixel\"].tolist()\n",
    "y_pixel = raw.obs[\"y_pixel\"].tolist()\n",
    "raw.X = (raw.X.A if issparse(raw.X) else raw.X)\n",
    "raw.raw = raw\n",
    "sc.pp.log1p(raw)"
   ],
   "metadata": {
    "collapsed": false
   },
   "id": "4767348e7f2d6939"
  },
  {
   "cell_type": "code",
   "execution_count": null,
   "outputs": [],
   "source": [
    "#Use domain 0 as an example\n",
    "target=0\n",
    "#Set filtering criterials\n",
    "min_in_group_fraction=0.8\n",
    "min_in_out_group_ratio=1\n",
    "min_fold_change=1.5\n",
    "#Search radius such that each spot in the target domain has approximately 10 neighbors on average\n",
    "adj_2d=spg.calculate_adj_matrix(x=x_array, y=y_array, histology=False)\n",
    "start, end= np.quantile(adj_2d[adj_2d!=0],q=0.001), np.quantile(adj_2d[adj_2d!=0],q=0.1)\n",
    "r=spg.search_radius(target_cluster=target, cell_id=ann_data.obs.index.tolist(), x=x_array, y=y_array, pred=ann_data.obs[\"mclust_refine\"].tolist(), start=start, end=end, num_min=10, num_max=100,  max_run=100)\n",
    "#Detect neighboring domains\n",
    "nbr_domians=spg.find_neighbor_clusters(target_cluster=target,\n",
    "                                   cell_id=raw.obs.index.tolist(), \n",
    "                                   x=raw.obs[\"x_array\"].tolist(), \n",
    "                                   y=raw.obs[\"y_array\"].tolist(), \n",
    "                                   pred=raw.obs[\"pred\"].tolist(),\n",
    "                                   radius=r,\n",
    "                                   ratio=1/2)\n",
    "nbr_domians=nbr_domians[0:3]\n",
    "de_genes_info=spg.rank_genes_groups(input_adata=raw,\n",
    "                                target_cluster=target,\n",
    "                                nbr_list=nbr_domians, \n",
    "                                label_col=\"pred\", \n",
    "                                adj_nbr=True, \n",
    "                                log=True)\n",
    "#Filter genes\n",
    "de_genes_info=de_genes_info[(de_genes_info[\"pvals_adj\"]<0.05)]\n",
    "filtered_info=de_genes_info\n",
    "filtered_info=filtered_info[(filtered_info[\"pvals_adj\"]<0.05) &\n",
    "                            (filtered_info[\"in_out_group_ratio\"]>min_in_out_group_ratio) &\n",
    "                            (filtered_info[\"in_group_fraction\"]>min_in_group_fraction) &\n",
    "                            (filtered_info[\"fold_change\"]>min_fold_change)]\n",
    "filtered_info=filtered_info.sort_values(by=\"in_group_fraction\", ascending=False)\n",
    "filtered_info[\"target_dmain\"]=target\n",
    "filtered_info[\"neighbors\"]=str(nbr_domians)\n",
    "print(\"SVGs for domain \", str(target),\":\", filtered_info[\"genes\"].tolist())"
   ],
   "metadata": {
    "collapsed": false
   },
   "id": "b863f2c6f4a46e50"
  },
  {
   "cell_type": "code",
   "execution_count": null,
   "outputs": [],
   "source": [
    "gene_list = ['TMSB10']\n",
    "\n",
    "color_self = clr.LinearSegmentedColormap.from_list('pink_green', ['#3AB370',\"#EAE7CC\",\"#FD1593\"], N=256)\n",
    "for g in gene_list:\n",
    "    raw.obs[\"exp\"]=raw.X[:,raw.var.index==g]\n",
    "    sc.pl.spatial(raw, img_key=\"hires\",\n",
    "              color=\"exp\",\n",
    "              title=g,\n",
    "              color_map=color_self)"
   ],
   "metadata": {
    "collapsed": false
   },
   "id": "bf9b2ff2f177d10d"
  },
  {
   "cell_type": "code",
   "execution_count": null,
   "outputs": [],
   "source": [
    "target=3\n",
    "meta_name, meta_exp=spg.find_meta_gene(input_adata=raw,\n",
    "                    pred=raw.obs[\"pred\"].tolist(),\n",
    "                    target_domain=target,\n",
    "                    start_gene=\"TMSB10\",\n",
    "                    mean_diff=0,\n",
    "                    early_stop=True,\n",
    "                    max_iter=3,\n",
    "                    use_raw=False)\n",
    "\n",
    "raw.obs[\"meta\"]=meta_exp\n",
    "raw.obs[\"exp\"]=raw.obs[\"meta\"]\n",
    "sc.pl.spatial(raw, img_key=\"hires\",\n",
    "              color=\"exp\",\n",
    "              title='meta',\n",
    "              color_map=color_self)"
   ],
   "metadata": {
    "collapsed": false
   },
   "id": "46f0c843020c3669"
  },
  {
   "cell_type": "code",
   "execution_count": null,
   "outputs": [],
   "source": [
    "#consensus clustering"
   ],
   "metadata": {
    "collapsed": false
   },
   "id": "37f0f169854213d2"
  },
  {
   "cell_type": "code",
   "execution_count": null,
   "outputs": [],
   "source": [
    "import glob\n",
    "import itertools\n",
    "from typing import List\n",
    "from scipy.spatial import distance\n",
    "from scipy.cluster import hierarchy\n",
    "\n",
    "\n",
    "def labels_connectivity_mat(labels: np.ndarray):\n",
    "    _labels = labels - np.min(labels)\n",
    "    n_classes = np.unique(_labels)\n",
    "    mat = np.zeros([labels.size, labels.size])\n",
    "    for i in n_classes:\n",
    "        indices = np.squeeze(np.where(_labels == i))  #将属于各个类的标签提取出来\n",
    "        row_indices, col_indices = zip(*itertools.product(indices, indices))\n",
    "        mat[row_indices, col_indices] = 1\n",
    "    return mat\n",
    "\n",
    "\n",
    "def consensus_matrix(labels_list: List[np.ndarray]):\n",
    "    mat = 0\n",
    "    for labels in labels_list:\n",
    "        mat += labels_connectivity_mat(labels)\n",
    "    return mat / float(len(labels_list))\n",
    "\n",
    "\n",
    "def plot_consensus_map(cmat, method=\"average\", return_linkage=True, **kwargs):\n",
    "    row_linkage = hierarchy.linkage(distance.pdist(cmat), method=method)\n",
    "    col_linkage = hierarchy.linkage(distance.pdist(cmat.T), method=method)\n",
    "    figure = sns.clustermap(cmat, row_linkage=row_linkage, col_linkage=col_linkage, **kwargs)\n",
    "    if return_linkage:\n",
    "        return row_linkage, col_linkage, figure\n",
    "    else:\n",
    "        return figure"
   ],
   "metadata": {
    "collapsed": false
   },
   "id": "3b01d904b3ddb301"
  },
  {
   "cell_type": "code",
   "execution_count": null,
   "outputs": [],
   "source": [
    "save_dir = os.path.join(section_id)\n",
    "name = section_id+\"_pred.npy\"\n",
    "num_cluster = knn\n",
    "\n",
    "sys.setrecursionlimit(100000)\n",
    "label_files = glob.glob(save_dir + f\"/version_*/{name}\")\n",
    "labels_list = list(map(lambda file: np.load(file), label_files))\n",
    "cons_mat = consensus_matrix(labels_list)\n",
    "row_linkage, _, figure = plot_consensus_map(cons_mat, return_linkage=True)  # 获取层次聚类结果和热度图\n",
    "figure.savefig(os.path.join(save_dir, \"consensus_clustering.png\"), dpi=300)  # 保存图片\n",
    "consensus_labels = hierarchy.cut_tree(row_linkage, num_cluster).squeeze()  # 得到y*\n",
    "np.save(os.path.join(save_dir, \"consensus_labels\"), consensus_labels)"
   ],
   "metadata": {
    "collapsed": false
   },
   "id": "c6e9e72b12c7dc2e"
  },
  {
   "cell_type": "code",
   "execution_count": null,
   "outputs": [],
   "source": [
    "pred = np.load(os.path.join(section_id,'consensus_labels.npy'))\n",
    "indices = np.logical_not(ann_data.obs[\"Manual annotation\"].isna())\n",
    "ground_truth = ann_data.obs[\"Manual annotation\"].dropna()\n",
    "ari = adjusted_rand_score(pred[indices], ground_truth[indices])\n",
    "print(\"ari is: {:.4f}\".format(ari))\n",
    "nmi = normalized_mutual_info_score(pred[indices], ground_truth[indices])\n",
    "print(\"nmi is: {:.4f}\".format(nmi))\n",
    "hs = homogeneity_score(pred[indices], ground_truth[indices])\n",
    "print(\"hs is: {:.4f}\".format(hs))\n",
    "purity = purity_score(pred[indices], ground_truth[indices])\n",
    "print(\"purity is: {:.4f}\".format(purity))"
   ],
   "metadata": {
    "collapsed": false
   },
   "id": "478ab0ec46fe1263"
  }
 ],
 "metadata": {
  "kernelspec": {
   "display_name": "Python 3",
   "language": "python",
   "name": "python3"
  },
  "language_info": {
   "codemirror_mode": {
    "name": "ipython",
    "version": 2
   },
   "file_extension": ".py",
   "mimetype": "text/x-python",
   "name": "python",
   "nbconvert_exporter": "python",
   "pygments_lexer": "ipython2",
   "version": "2.7.6"
  }
 },
 "nbformat": 4,
 "nbformat_minor": 5
}
